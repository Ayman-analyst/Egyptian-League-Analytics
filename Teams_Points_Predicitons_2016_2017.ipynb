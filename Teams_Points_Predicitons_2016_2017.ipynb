{
  "nbformat": 4,
  "nbformat_minor": 0,
  "metadata": {
    "colab": {
      "provenance": [],
      "mount_file_id": "1HM_pCdiXB605Yo14kYITXI5GbIpIXli8",
      "authorship_tag": "ABX9TyNr126sOGmpUBmKAMxAwyEy",
      "include_colab_link": true
    },
    "kernelspec": {
      "name": "python3",
      "display_name": "Python 3"
    },
    "language_info": {
      "name": "python"
    }
  },
  "cells": [
    {
      "cell_type": "markdown",
      "metadata": {
        "id": "view-in-github",
        "colab_type": "text"
      },
      "source": [
        "<a href=\"https://colab.research.google.com/github/Ayman-analyst/Egyptian-League-Analytics/blob/main/Teams_Points_Predicitons_2016_2017.ipynb\" target=\"_parent\"><img src=\"https://colab.research.google.com/assets/colab-badge.svg\" alt=\"Open In Colab\"/></a>"
      ]
    },
    {
      "cell_type": "markdown",
      "source": [
        "# **Linear Regression**"
      ],
      "metadata": {
        "id": "DhP7CdOktIqG"
      }
    },
    {
      "cell_type": "code",
      "source": [
        "import pandas as pd\n",
        "from sklearn.model_selection import train_test_split\n",
        "from sklearn.linear_model import LinearRegression\n",
        "import matplotlib.pyplot as plt\n",
        "\n",
        "# Load current and next season data\n",
        "current_df = pd.read_csv(\"/content/drive/MyDrive/Predicitons/2015-2016_Season.csv\")\n",
        "next_df = pd.read_excel(\"/content/drive/MyDrive/Predicitons/2016-2017_Standing.xlsx\")\n",
        "\n",
        "# Rename target column in next season data\n",
        "next_df = next_df.rename(columns={'points': 'NextSeasonPoints'})\n",
        "\n",
        "# Merge both datasets on the 'Team' column\n",
        "merged_df = pd.merge(current_df, next_df, on='Team')\n",
        "\n",
        "# Confirm the columns available\n",
        "print(\"Columns in merged data:\", merged_df.columns.tolist())\n",
        "\n",
        "# Define features (X) and target (y)\n",
        "X = merged_df[['Points', 'Wins', 'Loses', 'Ties', 'Goal Scored', 'Goals Conceded']]\n",
        "y = merged_df['NextSeasonPoints']\n",
        "\n",
        "# Train/test split\n",
        "X_train, X_test, y_train, y_test = train_test_split(X, y, test_size=0.2, random_state=42)\n",
        "\n",
        "# Train the regression model\n",
        "model = LinearRegression()\n",
        "model.fit(X_train, y_train)\n",
        "\n",
        "# Predict for all teams (full dataset)\n",
        "all_predictions = model.predict(X)\n",
        "\n",
        "# Create results DataFrame\n",
        "results = pd.DataFrame({\n",
        "    'Team': merged_df['Team'],\n",
        "    'Actual Points': y,\n",
        "    'Predicted Points': all_predictions.round(1)\n",
        "})\n",
        "\n",
        "# Print predictions\n",
        "print(results)\n",
        "\n",
        "# Predict on test set and plot results\n",
        "y_pred_test = model.predict(X_test)\n",
        "plt.scatter(y_test, y_pred_test)\n",
        "plt.xlabel('Actual Points')\n",
        "plt.ylabel('Predicted Points')\n",
        "plt.title('Actual vs Predicted Team Points (Test Set)')\n",
        "plt.plot([y.min(), y.max()], [y.min(), y.max()], 'r--')\n",
        "plt.grid(True)\n",
        "plt.show()\n",
        "\n",
        "# Export predictions to CSV\n",
        "results.to_csv(\"/content/drive/MyDrive/Predicitons/Predicted_Team_Points_Regression.csv\", index=False)\n"
      ],
      "metadata": {
        "colab": {
          "base_uri": "https://localhost:8080/",
          "height": 781
        },
        "id": "65kWR6lTl03J",
        "outputId": "e5525dff-c805-4bc6-e20a-0bfa8f1d50e9"
      },
      "execution_count": null,
      "outputs": [
        {
          "output_type": "stream",
          "name": "stdout",
          "text": [
            "Columns in merged data: ['Position', 'Team', 'Points', 'Wins', 'Loses', 'Ties', 'Goal Scored', 'Goals Conceded', 'NextSeasonPoints']\n",
            "               Team  Actual Points  Predicted Points\n",
            "0           Ahly SC             84              80.0\n",
            "1           Zamalek             63              60.8\n",
            "2            Smouha             57              54.1\n",
            "3          El Masry             62              57.8\n",
            "4        Wadi Degla             38              42.7\n",
            "5           Ismaily             54              57.4\n",
            "6    Entag El Harby             33              33.5\n",
            "7        EL Dakhlia             31              39.5\n",
            "8          Enppi SC             43              49.3\n",
            "9         El Makasa             74              55.5\n",
            "10         Petrojet             43              33.4\n",
            "11  Talaea El Gaish             45              30.0\n",
            "12     El Mokawloon             44              41.0\n",
            "13     Ittihad Alex             44              38.8\n",
            "14         Aswan SC             29              32.8\n"
          ]
        },
        {
          "output_type": "display_data",
          "data": {
            "text/plain": [
              "<Figure size 640x480 with 1 Axes>"
            ],
            "image/png": "[encoded data removed]"
          },
          "metadata": {}
        }
      ]
    },
    {
      "cell_type": "markdown",
      "source": [
        "# **Random Forest**"
      ],
      "metadata": {
        "id": "V457yLaXtMy4"
      }
    },
    {
      "cell_type": "code",
      "source": [
        "from sklearn.ensemble import RandomForestRegressor\n",
        "from sklearn.model_selection import train_test_split\n",
        "from sklearn.metrics import mean_squared_error\n",
        "import pandas as pd\n",
        "\n",
        "# Feature columns — removed 'Points'\n",
        "X = merged_df[['Wins', 'Loses', 'Ties', 'Goal Scored', 'Goals Conceded']]\n",
        "y = merged_df['NextSeasonPoints']\n",
        "\n",
        "# Train-test split\n",
        "X_train, X_test, y_train, y_test = train_test_split(X, y, test_size=0.2, random_state=42)\n",
        "\n",
        "# Train the Random Forest model\n",
        "rf_model = RandomForestRegressor(n_estimators=100, random_state=42)\n",
        "rf_model.fit(X_train, y_train)\n",
        "\n",
        "# Predict for all data\n",
        "merged_df['Predicted Points'] = rf_model.predict(X).round(1)\n",
        "\n",
        "# Print results (no 'Points' column)\n",
        "print(merged_df[['Team', 'NextSeasonPoints', 'Predicted Points']])\n",
        "\n",
        "# Export results to CSV (no 'Points' column)\n",
        "merged_df[['Team', 'NextSeasonPoints', 'Predicted Points']].to_csv(\n",
        "    \"/content/drive/MyDrive/Predicitons/Predicted_Team_Points_Random Forest.csv\", index=False\n",
        ")\n"
      ],
      "metadata": {
        "colab": {
          "base_uri": "https://localhost:8080/"
        },
        "id": "1p98sjc5q_gs",
        "outputId": "2ed5b373-7caf-49db-aa34-8bafe62a21a7"
      },
      "execution_count": null,
      "outputs": [
        {
          "output_type": "stream",
          "name": "stdout",
          "text": [
            "               Team  NextSeasonPoints  Predicted Points\n",
            "0           Ahly SC                84              59.7\n",
            "1           Zamalek                63              60.2\n",
            "2            Smouha                57              54.6\n",
            "3          El Masry                62              58.7\n",
            "4        Wadi Degla                38              36.9\n",
            "5           Ismaily                54              52.2\n",
            "6    Entag El Harby                33              34.2\n",
            "7        EL Dakhlia                31              34.0\n",
            "8          Enppi SC                43              43.5\n",
            "9         El Makasa                74              52.5\n",
            "10         Petrojet                43              41.3\n",
            "11  Talaea El Gaish                45              36.3\n",
            "12     El Mokawloon                44              41.4\n",
            "13     Ittihad Alex                44              41.7\n",
            "14         Aswan SC                29              34.4\n"
          ]
        }
      ]
    }
  ]
}